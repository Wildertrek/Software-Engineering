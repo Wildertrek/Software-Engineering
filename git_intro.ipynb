{
 "cells": [
  {
   "cell_type": "markdown",
   "metadata": {},
   "source": [
    "## Scenario\n",
    "Let's walk through the git commands that go along with each step in the scenario you just observed in the video above.\n",
    "\n",
    "Step 1: Andrew commits his changes to the documentation branch, switches to the development branch, and pulls down the latest changes from the cloud on this development branch, including the change I merged previously for the friends group feature.\n",
    "Commit changes on documentation branch\n",
    "git commit -m \"standardized all docstrings in process.py\"\n",
    "\n",
    "Switch to develop branch\n",
    "```git\n",
    "git checkout develop\n",
    "```\n",
    "\n",
    "Pull latest changes on develop down\n",
    "```git\n",
    "git pull\n",
    "```\n",
    "\n",
    "Step 2: Then, Andrew merges his documentation branch on the develop branch on his local repository, and then pushes his changes up to update the develop branch on the remote repository.\n",
    "Merge documentation branch to develop\n",
    "git merge --no-ff documentation\n",
    "\n",
    "Push changes up to remote repository\n",
    "```git\n",
    "git push origin develop\n",
    "```\n",
    "\n",
    "Step 3: After the team reviewed both of your work, they merge the updates from the development branch to the master branch. Now they push the changes to the master branch on the remote repository. These changes are now in production.\n",
    "\n",
    "Merge develop to master\n",
    "```git\n",
    "git merge --no-ff develop\n",
    "```\n",
    "\n",
    "Push changes up to remote repository\n",
    "```git\n",
    "git push origin master\n",
    "```\n",
    "\n",
    "### Resources\n",
    "There's a great article on a successful git branching strategy that you should really read [here](https://nvie.com/posts/a-successful-git-branching-model/).\n",
    "\n",
    "### Note on Merge Conflicts\n",
    "For the most part, git makes merging changes between branches really simple. However, there are some cases where git will be confused on how to combine two changes, and asks you for help. This is called a merge conflict.\n",
    "\n",
    "Mostly commonly, this happens when two branches modify the same file.\n",
    "\n",
    "For example, in this situation, let’s say I deleted a line that Andrew modified on his branch. Git wouldn’t know whether to delete the line or modify it. Here, you need to tell git which change to take, and some tools even allow you to edit the change manually. If it isn’t straightforward, you may have to consult with the developer of the other branch to handle a merge conflict.\n",
    "\n",
    "You can learn more about merge conflicts and methods to handle them [here](https://help.github.com/en/github/collaborating-with-issues-and-pull-requests/about-merge-conflicts)."
   ]
  },
  {
   "cell_type": "markdown",
   "metadata": {},
   "source": [
    "### Model Versioning\n",
    "Version control in data science can be tricky, because there are many pieces involved that can be hard to track, such as large amounts of data, model versions, seeds, hyperparameters, etc.\n",
    "\n",
    "Here are some resources for useful ways and tools for managing versions of models and large data. These are here for you to explore, but are not necessary to know now as you start your journey as a data scientist. On the job, you’ll always be learning new skills, and many of them will be specific to the processes set in your company.\n",
    "\n",
    "- [How to Version Control Your Production Machine Learning Models](https://algorithmia.com/blog/how-to-version-control-your-production-machine-learning-models)\n",
    "- [Versioning Data Science](https://github.com/iterative/dvc)"
   ]
  },
  {
   "cell_type": "code",
   "execution_count": null,
   "metadata": {},
   "outputs": [],
   "source": []
  }
 ],
 "metadata": {
  "kernelspec": {
   "display_name": "Python 3",
   "language": "python",
   "name": "python3"
  },
  "language_info": {
   "codemirror_mode": {
    "name": "ipython",
    "version": 3
   },
   "file_extension": ".py",
   "mimetype": "text/x-python",
   "name": "python",
   "nbconvert_exporter": "python",
   "pygments_lexer": "ipython3",
   "version": "3.7.4"
  }
 },
 "nbformat": 4,
 "nbformat_minor": 4
}
